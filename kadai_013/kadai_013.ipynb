{
  "nbformat": 4,
  "nbformat_minor": 0,
  "metadata": {
    "colab": {
      "provenance": []
    },
    "kernelspec": {
      "name": "python3",
      "display_name": "Python 3"
    },
    "language_info": {
      "name": "python"
    }
  },
  "cells": [
    {
      "cell_type": "markdown",
      "source": [],
      "metadata": {
        "id": "V4ikkwMX4BXh"
      }
    },
    {
      "cell_type": "code",
      "source": [
        "# 課題「関数を使いこなそう」\n",
        "\n",
        "def add_charge(price, tax):\n",
        "  return int(price * (100 + tax) / 100)\n",
        "\n",
        "print(add_charge(110, 10))"
      ],
      "metadata": {
        "colab": {
          "base_uri": "https://localhost:8080/"
        },
        "id": "hrZi0aRftN58",
        "outputId": "2b0d52cd-211a-4e82-cbdd-0fe80ca42a99"
      },
      "execution_count": 8,
      "outputs": [
        {
          "output_type": "stream",
          "name": "stdout",
          "text": [
            "121\n"
          ]
        }
      ]
    }
  ]
}