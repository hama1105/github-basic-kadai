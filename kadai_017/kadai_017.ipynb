{
  "nbformat": 4,
  "nbformat_minor": 0,
  "metadata": {
    "colab": {
      "provenance": []
    },
    "kernelspec": {
      "name": "python3",
      "display_name": "Python 3"
    },
    "language_info": {
      "name": "python"
    }
  },
  "cells": [
    {
      "cell_type": "markdown",
      "source": [],
      "metadata": {
        "id": "V4ikkwMX4BXh"
      }
    },
    {
      "cell_type": "code",
      "source": [
        "# 課題「学習したことを組み合わせてコードを書こう」\n",
        "class Human:\n",
        "  # コンストラクタを定義する\n",
        "  def __init__(self, name, age):\n",
        "    self.name = name\n",
        "    self.age = age\n",
        "\n",
        "  def check_adult(self):\n",
        "    if self.age >= 20:\n",
        "      print(f\"{self.name}さんは大人です。\")\n",
        "    else:\n",
        "      print(f\"{self.name}さんは大人ではありません。\")\n",
        "\n",
        "# インスタンスを複数作成\n",
        "humans = [\n",
        "  Human(\"侍太郎\", 25),\n",
        "  Human(\"侍花子\", 18),\n",
        "  Human(\"侍テラコヤ\", 30),\n",
        "  Human(\"山田太郎\", 15)\n",
        "]\n",
        "\n",
        "# リストの要素数分だけ check_adult メソッドを呼び出す\n",
        "for human in humans:\n",
        "\n",
        "  # for文で以下を繰り返して実行している\n",
        "  # human = Human(\"侍太郎\", 25)\n",
        "  # human = Human(\"侍花子\", 18),\n",
        "  # human = Human(\"侍テラコヤ\", 30),\n",
        "  # human = Human(\"山田太郎\", 15)\n",
        "\n",
        "  human.check_adult()\n",
        "\n",
        "\n",
        "# 理解・復習用\n",
        "# human = Human(\"侍太郎\", 25)\n",
        "# human.check_adult()"
      ],
      "metadata": {
        "colab": {
          "base_uri": "https://localhost:8080/"
        },
        "id": "m_z_T2cCUaA4",
        "outputId": "056f5006-c58b-48b8-9509-c566546976bf"
      },
      "execution_count": 43,
      "outputs": [
        {
          "output_type": "stream",
          "name": "stdout",
          "text": [
            "侍太郎さんは大人です。\n",
            "侍花子さんは大人ではありません。\n",
            "侍テラコヤさんは大人です。\n",
            "山田太郎さんは大人ではありません。\n"
          ]
        }
      ]
    }
  ]
}