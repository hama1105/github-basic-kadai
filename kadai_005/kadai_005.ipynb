{
  "nbformat": 4,
  "nbformat_minor": 0,
  "metadata": {
    "colab": {
      "provenance": []
    },
    "kernelspec": {
      "name": "python3",
      "display_name": "Python 3"
    },
    "language_info": {
      "name": "python"
    }
  },
  "cells": [
    {
      "cell_type": "markdown",
      "source": [],
      "metadata": {
        "id": "V4ikkwMX4BXh"
      }
    },
    {
      "cell_type": "code",
      "source": [
        "top = 10\n",
        "\n",
        "bottom = 20\n",
        "\n",
        "height = 5\n",
        "\n",
        "area = ((top + bottom) * height / 2 )\n",
        "\n",
        "print(str(area) + \"cm²\")"
      ],
      "metadata": {
        "colab": {
          "base_uri": "https://localhost:8080/"
        },
        "id": "0hdpGX0WeKNg",
        "outputId": "bf49378c-046d-403d-d0d2-73e134d45c0d"
      },
      "execution_count": null,
      "outputs": [
        {
          "output_type": "stream",
          "name": "stdout",
          "text": [
            "75.0c㎡\n"
          ]
        }
      ]
    }
  ]
}